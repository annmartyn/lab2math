{
 "cells": [
  {
   "cell_type": "code",
   "execution_count": 1,
   "metadata": {},
   "outputs": [],
   "source": [
    "from bs4 import BeautifulSoup\n",
    "import sys, requests, time, re"
   ]
  },
  {
   "cell_type": "code",
   "execution_count": 2,
   "metadata": {},
   "outputs": [],
   "source": [
    "news = 'http://www.chebnovosti.ru/News.aspx'\n",
    "\n",
    "\n",
    "def get_ssyl_page(page):\n",
    "    response = requests.get(page)\n",
    "    soup = BeautifulSoup(response.text)\n",
    "    hre_li = []\n",
    "    elems = soup.find_all(\"a\")\n",
    "    for elem in elems:\n",
    "        if 'class' in str(elem):\n",
    "            if 'LI_Caption' in str(elem):\n",
    "                hre_li.append(elem['href'])\n",
    "            else:\n",
    "                pass\n",
    "        else:\n",
    "            pass\n",
    "    return hre_li\n",
    "    \n",
    "\n",
    "    \n",
    "allhr = get_ssyl_page(news)\n",
    "pags = []\n",
    "for i in range(2, 714):\n",
    "    pag_s = 'http://www.chebnovosti.ru/news.aspx?page=' + str(i)\n",
    "    pags.append(pag_s)\n",
    "for pp in pags:\n",
    "    me = get_ssyl_page(pp)\n",
    "    allhr.extend(me)\n",
    "    \n",
    "realhs = []\n",
    "for hr in allhr:\n",
    "    if 'news.aspx' in hr:\n",
    "        realh = 'http://www.chebnovosti.ru/' + hr\n",
    "    else:\n",
    "        realh = 'http://www.chebnovosti.ru/news.aspx' + hr\n",
    "    realhs.append(realh)"
   ]
  },
  {
   "cell_type": "code",
   "execution_count": 3,
   "metadata": {},
   "outputs": [],
   "source": [
    "with open('news_doc.txt', 'w', encoding='utf-8') as f:\n",
    "    res = []\n",
    "    for realh in realhs:\n",
    "        if 'id' in realh:\n",
    "            res.append(realh)\n",
    "        else:\n",
    "            pass\n",
    "    for rs in res:\n",
    "        f.write(rs)\n",
    "        f.write('\\n')"
   ]
  },
  {
   "cell_type": "code",
   "execution_count": 4,
   "metadata": {},
   "outputs": [
    {
     "name": "stdout",
     "output_type": "stream",
     "text": [
      "['http://www.chebnovosti.ru/news.aspx?page=51&group=7487c745-ff2b-4ee6-8cb4-15ad3a9324de&id=39f57e75-c82f-4013-9e6f-021743b1f446\\n', 'http://www.chebnovosti.ru/news.aspx?page=287&group=5dc51b0f-d49d-41cf-a1ff-8b2e641b232d&id=6cfc3e2a-ee2a-4c9a-ba72-9114b2456bfb\\n', 'http://www.chebnovosti.ru/news.aspx?page=100&group=9d6d3741-7949-4f09-a729-fab56115717f&id=ea4f7bd9-de44-49a2-bef1-b3bd51b2dc0a\\n', 'http://www.chebnovosti.ru/news.aspx?page=477&group=9ee0d4a3-23d2-4d47-85db-7ec599ce1207&id=b10873cf-dc06-45ea-a9ec-e2a118f6c916\\n', 'http://www.chebnovosti.ru/news.aspx?page=616&group=99b43e55-a02b-452b-9d69-8e421cf92c3a&id=3c2c322d-788b-4aa5-a00d-bc36dfdcc762\\n', 'http://www.chebnovosti.ru/news.aspx?page=377&group=5dc51b0f-d49d-41cf-a1ff-8b2e641b232d&id=59170958-2855-46eb-a696-45c0c3823ae3\\n', 'http://www.chebnovosti.ru/news.aspx?page=426&group=9ee0d4a3-23d2-4d47-85db-7ec599ce1207&id=5b5d6e2f-a66d-4edc-bbf1-4cd9dd7536c1\\n']\n"
     ]
    }
   ],
   "source": [
    "with open('news_doc.txt', 'r', encoding='utf-8') as f:\n",
    "    tosort = f.readlines()\n",
    "    reds = list(set(tosort))\n",
    "    with open('a.txt', 'w', encoding='utf-8') as d:\n",
    "        for el in reds:\n",
    "            d.write(el)"
   ]
  },
  {
   "cell_type": "code",
   "execution_count": 33,
   "metadata": {},
   "outputs": [],
   "source": [
    "with open('a.txt', 'r', encoding='utf-8') as f:\n",
    "    alls = f.readlines()\n",
    "    with open('corpora.txt', 'a', encoding='utf-8') as d:\n",
    "        for i in range(0, 21389):\n",
    "            d.write('\\n')\n",
    "            d.write(alls[i])\n",
    "            d.write('Городская газета \"Чебоксарские новости\"')\n",
    "            d.write('\\n')\n",
    "            response = requests.get(alls[i])\n",
    "            soup = BeautifulSoup(response.text)\n",
    "            e = []\n",
    "            for elem in soup.find_all('div'):\n",
    "                if 'class' in str(elem):\n",
    "                    if 'data_rubric_newses' in str(elem):\n",
    "                        el = str(elem)\n",
    "                        data = re.search('\\d\\d\\.\\d\\d\\.\\d{4}', el)\n",
    "                        e.append(data[0])\n",
    "            d.write(e[0])\n",
    "            d.write('\\n')\n",
    "            authors = []\n",
    "            for elem in soup.find_all('p'):\n",
    "                if 'strong' in str(elem):\n",
    "                    if 'style=\"text-align: right' in str(elem):\n",
    "                        el = str(elem)\n",
    "                        author = re.search('[А-Я][а-я]+\\s[А-Я]+', el)\n",
    "                        if author != None:\n",
    "                            authors.append(author[0])\n",
    "                elif 'em' in str(elem):\n",
    "                    if 'style=\"text-align: right' in str(elem):\n",
    "                        el = str(elem)\n",
    "                        author = re.search('[А-Я][а-я]+\\s[А-Я]+', el)\n",
    "                        if author != None:\n",
    "                            authors.append(author[0])\n",
    "            for aut in authors:\n",
    "                author = re.search('[А-Я][а-я]+\\s[А-Я]+', aut)\n",
    "                if author != None:\n",
    "                    d.write(author[0])\n",
    "                else:\n",
    "                    pass\n",
    "            d.write('\\n')\n",
    "            for elem in soup.find_all('div'):\n",
    "                if 'class' in str(elem):\n",
    "                    if 'title_rubric_news' in str(elem):\n",
    "                        el = str(elem)\n",
    "                        titles = re.findall('title_rubric_news\">\\s\\n\\s+[\\SА-Яа-я\\s\\d\\w\\W.]+</div>', el)\n",
    "                        title = titles[-1]\n",
    "                        title = title.replace('\\t', '')\n",
    "                        title = title.replace('\\n', '')\n",
    "                        title = title.replace('\\r', '')\n",
    "                        title = title.replace('</div>', '')\n",
    "                        title = title.replace('title_rubric_news\">', '')\n",
    "            d.write(title)\n",
    "            d.write('\\n')\n",
    "            texts = []\n",
    "            for elem in soup.find_all('p'):\n",
    "                el = str(elem)\n",
    "                el = el.replace('<p>', '')\n",
    "                el = el.replace('</p>', '')\n",
    "                if '<' in el:\n",
    "                    pass\n",
    "                else:\n",
    "                    texts.append(el)\n",
    "                text =  ' '.join(texts)\n",
    "            d.write(text)\n",
    "            d.write('\\n')\n",
    "            d.write('=====')"
   ]
  },
  {
   "cell_type": "code",
   "execution_count": null,
   "metadata": {},
   "outputs": [],
   "source": []
  }
 ],
 "metadata": {
  "kernelspec": {
   "display_name": "Python 3",
   "language": "python",
   "name": "python3"
  },
  "language_info": {
   "codemirror_mode": {
    "name": "ipython",
    "version": 3
   },
   "file_extension": ".py",
   "mimetype": "text/x-python",
   "name": "python",
   "nbconvert_exporter": "python",
   "pygments_lexer": "ipython3",
   "version": "3.8.0"
  }
 },
 "nbformat": 4,
 "nbformat_minor": 4
}
